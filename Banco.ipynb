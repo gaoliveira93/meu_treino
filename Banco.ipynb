{
 "cells": [
  {
   "cell_type": "code",
   "execution_count": null,
   "id": "b70a7e01-97d7-4f25-a83c-61b6ad60ce69",
   "metadata": {},
   "outputs": [],
   "source": [
    "import pandas as pd\n",
    "import matplotlib as plt\n",
    "import numpy as np\n",
    "import seaborn as sns"
   ]
  },
  {
   "cell_type": "code",
   "execution_count": null,
   "id": "318ea47a-789a-4fc8-812c-61bd75c7f8f4",
   "metadata": {},
   "outputs": [],
   "source": [
    "df_agencias = pd.read_csv('agencias.csv')\n",
    "df_clientes = pd.read_csv('clientes.csv')\n",
    "df_clbagencia = pd.read_csv('colaborador_agencia.csv')\n",
    "df_colab = pd.read_csv('colaboradores.csv')\n",
    "df_contas = pd.read_csv('contas.csv')\n",
    "df_transacoes = pd.read_csv('transacoes.csv')"
   ]
  },
  {
   "cell_type": "code",
   "execution_count": null,
   "id": "88f4a636-6411-4018-b110-85a23a58fc21",
   "metadata": {},
   "outputs": [],
   "source": [
    "df_TCA = (df_transacoes.merge(df_contas, how = 'left').merge(df_agencias,on='cod_agencia', how='left'))\n",
    "df_TCA.head()"
   ]
  },
  {
   "cell_type": "code",
   "execution_count": null,
   "id": "6b79671a-7010-4e6a-bef0-f09eb5d0f98a",
   "metadata": {},
   "outputs": [],
   "source": [
    "df_TCA.drop(['cod_transacao', 'cod_cliente', 'data_abertura_x', 'data_abertura_y', 'cod_agencia', 'cod_colaborador', 'data_ultimo_lancamento'],axis=1, inplace=True)"
   ]
  },
  {
   "cell_type": "code",
   "execution_count": null,
   "id": "d73bbf32-2bb6-4408-8ea0-53f5e6c17978",
   "metadata": {},
   "outputs": [],
   "source": [
    "df_TCA"
   ]
  },
  {
   "cell_type": "code",
   "execution_count": null,
   "id": "c0d7cc26-70f4-4259-bdba-e85019faafa6",
   "metadata": {},
   "outputs": [],
   "source": [
    "Trans_AG = df_TCA.groupby(['nome_transacao','tipo_agencia'])['nome_transacao'].count().sort_values().reset_index(name= 'Contagem')\n",
    "Trans_AG"
   ]
  },
  {
   "cell_type": "code",
   "execution_count": null,
   "id": "80e6439e-9ad4-47b8-a90a-79ddb80cc994",
   "metadata": {},
   "outputs": [],
   "source": [
    "Trans_AG['%'] = (Trans_AG['Contagem'] / Trans_AG['Contagem'].sum()).mul(100).round(1).astype(str) + '%'"
   ]
  },
  {
   "cell_type": "code",
   "execution_count": null,
   "id": "6da76ab1-224b-44a2-8bfc-a13632dfe514",
   "metadata": {},
   "outputs": [],
   "source": [
    "Trans_AG"
   ]
  },
  {
   "cell_type": "code",
   "execution_count": null,
   "id": "267c81ea-955e-437d-a023-d1d4257a9eab",
   "metadata": {},
   "outputs": [],
   "source": [
    "Trans_AGTime = df_TCA.drop(['num_conta', 'endereco'], axis=1)"
   ]
  },
  {
   "cell_type": "code",
   "execution_count": null,
   "id": "d6e582c2-fbe3-431f-b251-a8f9a3528956",
   "metadata": {},
   "outputs": [],
   "source": [
    "Trans_AGTime"
   ]
  },
  {
   "cell_type": "code",
   "execution_count": null,
   "id": "64806556-e561-43e5-b21c-0a4956f8562b",
   "metadata": {},
   "outputs": [],
   "source": [
    "Trans_AGTime['Mês'] = Trans_AGTime['data_transacao'].str[5:7]\n",
    "Trans_AGTime"
   ]
  },
  {
   "cell_type": "code",
   "execution_count": null,
   "id": "006e7987-71c7-478a-888b-3ad1c04bd727",
   "metadata": {},
   "outputs": [],
   "source": [
    "Trans_AGTime2 = Trans_AGTime.drop(['data_transacao', 'nome', 'cidade', 'uf'], axis=1)\n",
    "Trans_AGTime2"
   ]
  },
  {
   "cell_type": "code",
   "execution_count": null,
   "id": "c353bc32-784c-419a-83b4-23a89ec480d3",
   "metadata": {},
   "outputs": [],
   "source": [
    "Trans_AGTime2 = Trans_AGTime2.groupby(['nome_transacao', 'Mês','tipo_agencia'])['nome_transacao'].count().sort_values().reset_index(name ='Contagem')"
   ]
  },
  {
   "cell_type": "code",
   "execution_count": null,
   "id": "f0721069-582d-4814-95f1-6f2e73f3bf97",
   "metadata": {},
   "outputs": [],
   "source": [
    "Trans_AGTime2.pivot_table(index=['nome_transacao', 'tipo_agencia'], columns='Mês', values='Contagem').fillna(0)"
   ]
  },
  {
   "cell_type": "code",
   "execution_count": null,
   "id": "f9664ef2-891f-41f5-8624-fb82c5321afe",
   "metadata": {},
   "outputs": [],
   "source": [
    "Trans_AGTime['data_transacao'] = pd.to_datetime(Trans_AGTime['data_transacao'], format='mixed', utc=True)"
   ]
  },
  {
   "cell_type": "code",
   "execution_count": null,
   "id": "f1476d21-df95-4402-87b2-06e16d03e17a",
   "metadata": {},
   "outputs": [],
   "source": [
    "Trans_AGTime['Quinzena'] = Trans_AGTime['data_transacao'].apply(\n",
    "    lambda date: 'Primeira Quinzena' if date.day <= 15 else 'Segunda Quinzena'\n",
    ")"
   ]
  },
  {
   "cell_type": "code",
   "execution_count": null,
   "id": "85704f6d-55ad-4464-9bb4-289cbacd0098",
   "metadata": {},
   "outputs": [],
   "source": [
    "Trans_AGTime['Média'] = Trans_AGTime['valor_transacao'].mean()"
   ]
  },
  {
   "cell_type": "code",
   "execution_count": null,
   "id": "62071452-0e99-47b5-997e-d94ab5c3a079",
   "metadata": {},
   "outputs": [],
   "source": [
    "def formatar_numero(valor):\n",
    "    return f'{valor:,.1f}'.replace(',', 'X').replace('.', ',').replace('X', '.')"
   ]
  },
  {
   "cell_type": "code",
   "execution_count": 83,
   "id": "11fb8231-b89d-4080-9e8e-424fc6933a17",
   "metadata": {},
   "outputs": [
    {
     "data": {
      "text/html": [
       "<div>\n",
       "<style scoped>\n",
       "    .dataframe tbody tr th:only-of-type {\n",
       "        vertical-align: middle;\n",
       "    }\n",
       "\n",
       "    .dataframe tbody tr th {\n",
       "        vertical-align: top;\n",
       "    }\n",
       "\n",
       "    .dataframe thead th {\n",
       "        text-align: right;\n",
       "    }\n",
       "</style>\n",
       "<table border=\"1\" class=\"dataframe\">\n",
       "  <thead>\n",
       "    <tr style=\"text-align: right;\">\n",
       "      <th></th>\n",
       "      <th>Mês</th>\n",
       "      <th>01</th>\n",
       "      <th>02</th>\n",
       "      <th>03</th>\n",
       "      <th>04</th>\n",
       "      <th>05</th>\n",
       "      <th>06</th>\n",
       "      <th>07</th>\n",
       "      <th>08</th>\n",
       "      <th>09</th>\n",
       "      <th>10</th>\n",
       "      <th>11</th>\n",
       "      <th>12</th>\n",
       "    </tr>\n",
       "    <tr>\n",
       "      <th>Quinzena</th>\n",
       "      <th>tipo_agencia</th>\n",
       "      <th></th>\n",
       "      <th></th>\n",
       "      <th></th>\n",
       "      <th></th>\n",
       "      <th></th>\n",
       "      <th></th>\n",
       "      <th></th>\n",
       "      <th></th>\n",
       "      <th></th>\n",
       "      <th></th>\n",
       "      <th></th>\n",
       "      <th></th>\n",
       "    </tr>\n",
       "  </thead>\n",
       "  <tbody>\n",
       "    <tr>\n",
       "      <th rowspan=\"2\" valign=\"top\">Primeira Quinzena</th>\n",
       "      <th>Digital</th>\n",
       "      <td>381302.9</td>\n",
       "      <td>206717.6</td>\n",
       "      <td>250274.6</td>\n",
       "      <td>237778.8</td>\n",
       "      <td>257058.1</td>\n",
       "      <td>250988.7</td>\n",
       "      <td>308112.7</td>\n",
       "      <td>302043.3</td>\n",
       "      <td>290261.5</td>\n",
       "      <td>364879.7</td>\n",
       "      <td>408793.8</td>\n",
       "      <td>529111.3</td>\n",
       "    </tr>\n",
       "    <tr>\n",
       "      <th>Física</th>\n",
       "      <td>436641.8</td>\n",
       "      <td>339173.9</td>\n",
       "      <td>398440.1</td>\n",
       "      <td>378803.7</td>\n",
       "      <td>388086.3</td>\n",
       "      <td>427359.1</td>\n",
       "      <td>410578.9</td>\n",
       "      <td>362737.6</td>\n",
       "      <td>448066.6</td>\n",
       "      <td>433071.5</td>\n",
       "      <td>467703.0</td>\n",
       "      <td>542678.2</td>\n",
       "    </tr>\n",
       "    <tr>\n",
       "      <th rowspan=\"2\" valign=\"top\">Segunda Quinzena</th>\n",
       "      <th>Digital</th>\n",
       "      <td>273124.2</td>\n",
       "      <td>183868.0</td>\n",
       "      <td>273838.3</td>\n",
       "      <td>269911.0</td>\n",
       "      <td>267411.8</td>\n",
       "      <td>294188.7</td>\n",
       "      <td>301686.3</td>\n",
       "      <td>343815.2</td>\n",
       "      <td>298116.0</td>\n",
       "      <td>378089.6</td>\n",
       "      <td>428073.2</td>\n",
       "      <td>4742008.2</td>\n",
       "    </tr>\n",
       "    <tr>\n",
       "      <th>Física</th>\n",
       "      <td>351312.8</td>\n",
       "      <td>327035.0</td>\n",
       "      <td>438783.9</td>\n",
       "      <td>362380.5</td>\n",
       "      <td>398083.1</td>\n",
       "      <td>392013.6</td>\n",
       "      <td>404152.5</td>\n",
       "      <td>446638.5</td>\n",
       "      <td>435927.7</td>\n",
       "      <td>431643.4</td>\n",
       "      <td>485197.2</td>\n",
       "      <td>4357492.1</td>\n",
       "    </tr>\n",
       "  </tbody>\n",
       "</table>\n",
       "</div>"
      ],
      "text/plain": [
       "Mês                                   01        02        03        04  \\\n",
       "Quinzena          tipo_agencia                                           \n",
       "Primeira Quinzena Digital       381302.9  206717.6  250274.6  237778.8   \n",
       "                  Física        436641.8  339173.9  398440.1  378803.7   \n",
       "Segunda Quinzena  Digital       273124.2  183868.0  273838.3  269911.0   \n",
       "                  Física        351312.8  327035.0  438783.9  362380.5   \n",
       "\n",
       "Mês                                   05        06        07        08  \\\n",
       "Quinzena          tipo_agencia                                           \n",
       "Primeira Quinzena Digital       257058.1  250988.7  308112.7  302043.3   \n",
       "                  Física        388086.3  427359.1  410578.9  362737.6   \n",
       "Segunda Quinzena  Digital       267411.8  294188.7  301686.3  343815.2   \n",
       "                  Física        398083.1  392013.6  404152.5  446638.5   \n",
       "\n",
       "Mês                                   09        10        11         12  \n",
       "Quinzena          tipo_agencia                                           \n",
       "Primeira Quinzena Digital       290261.5  364879.7  408793.8   529111.3  \n",
       "                  Física        448066.6  433071.5  467703.0   542678.2  \n",
       "Segunda Quinzena  Digital       298116.0  378089.6  428073.2  4742008.2  \n",
       "                  Física        435927.7  431643.4  485197.2  4357492.1  "
      ]
     },
     "execution_count": 83,
     "metadata": {},
     "output_type": "execute_result"
    }
   ],
   "source": [
    "Trans_AGTimeQuin = Trans_AGTime.pivot_table(index=['Quinzena','tipo_agencia'], columns='Mês', values='Média', aggfunc='sum').round(1)\n",
    "Trans_AGTimeQuin"
   ]
  },
  {
   "cell_type": "code",
   "execution_count": null,
   "id": "d3985bb7-e474-483e-a605-18133147fe9f",
   "metadata": {},
   "outputs": [],
   "source": [
    "for col in Trans_AGTimeQuin.columns:\n",
    "    Trans_AGTimeQuin[col] = Trans_AGTimeQuin[col].apply(formatar_numero)"
   ]
  },
  {
   "cell_type": "code",
   "execution_count": null,
   "id": "c111d55c-9313-4afd-96fd-e07d5709c1d5",
   "metadata": {},
   "outputs": [],
   "source": [
    "Trans_AGTimeQuin"
   ]
  },
  {
   "cell_type": "code",
   "execution_count": 81,
   "id": "d8588f01-7e1e-45df-bef9-9d0b09f6ae0c",
   "metadata": {},
   "outputs": [
    {
     "data": {
      "text/html": [
       "<div>\n",
       "<style scoped>\n",
       "    .dataframe tbody tr th:only-of-type {\n",
       "        vertical-align: middle;\n",
       "    }\n",
       "\n",
       "    .dataframe tbody tr th {\n",
       "        vertical-align: top;\n",
       "    }\n",
       "\n",
       "    .dataframe thead th {\n",
       "        text-align: right;\n",
       "    }\n",
       "</style>\n",
       "<table border=\"1\" class=\"dataframe\">\n",
       "  <thead>\n",
       "    <tr style=\"text-align: right;\">\n",
       "      <th>Mês</th>\n",
       "      <th>01</th>\n",
       "      <th>02</th>\n",
       "      <th>03</th>\n",
       "      <th>04</th>\n",
       "      <th>05</th>\n",
       "      <th>06</th>\n",
       "      <th>07</th>\n",
       "      <th>08</th>\n",
       "      <th>09</th>\n",
       "      <th>10</th>\n",
       "      <th>11</th>\n",
       "      <th>12</th>\n",
       "    </tr>\n",
       "    <tr>\n",
       "      <th>Quinzena</th>\n",
       "      <th></th>\n",
       "      <th></th>\n",
       "      <th></th>\n",
       "      <th></th>\n",
       "      <th></th>\n",
       "      <th></th>\n",
       "      <th></th>\n",
       "      <th></th>\n",
       "      <th></th>\n",
       "      <th></th>\n",
       "      <th></th>\n",
       "      <th></th>\n",
       "    </tr>\n",
       "  </thead>\n",
       "  <tbody>\n",
       "    <tr>\n",
       "      <th>Primeira Quinzena</th>\n",
       "      <td>817.944,6</td>\n",
       "      <td>545.891,5</td>\n",
       "      <td>648.714,7</td>\n",
       "      <td>616.582,4</td>\n",
       "      <td>645.144,5</td>\n",
       "      <td>678.347,8</td>\n",
       "      <td>718.691,6</td>\n",
       "      <td>664.780,8</td>\n",
       "      <td>738.328,0</td>\n",
       "      <td>797.951,2</td>\n",
       "      <td>876.496,8</td>\n",
       "      <td>1.071.789,5</td>\n",
       "    </tr>\n",
       "    <tr>\n",
       "      <th>Segunda Quinzena</th>\n",
       "      <td>624.437,0</td>\n",
       "      <td>510.903,0</td>\n",
       "      <td>712.622,2</td>\n",
       "      <td>632.291,6</td>\n",
       "      <td>665.494,9</td>\n",
       "      <td>686.202,4</td>\n",
       "      <td>705.838,7</td>\n",
       "      <td>790.453,7</td>\n",
       "      <td>734.043,7</td>\n",
       "      <td>809.733,1</td>\n",
       "      <td>913.270,4</td>\n",
       "      <td>9.099.500,2</td>\n",
       "    </tr>\n",
       "  </tbody>\n",
       "</table>\n",
       "</div>"
      ],
      "text/plain": [
       "Mês                       01         02         03         04         05  \\\n",
       "Quinzena                                                                   \n",
       "Primeira Quinzena  817.944,6  545.891,5  648.714,7  616.582,4  645.144,5   \n",
       "Segunda Quinzena   624.437,0  510.903,0  712.622,2  632.291,6  665.494,9   \n",
       "\n",
       "Mês                       06         07         08         09         10  \\\n",
       "Quinzena                                                                   \n",
       "Primeira Quinzena  678.347,8  718.691,6  664.780,8  738.328,0  797.951,2   \n",
       "Segunda Quinzena   686.202,4  705.838,7  790.453,7  734.043,7  809.733,1   \n",
       "\n",
       "Mês                       11           12  \n",
       "Quinzena                                   \n",
       "Primeira Quinzena  876.496,8  1.071.789,5  \n",
       "Segunda Quinzena   913.270,4  9.099.500,2  "
      ]
     },
     "execution_count": 81,
     "metadata": {},
     "output_type": "execute_result"
    }
   ],
   "source": [
    "Trans_AGTimeQuin = Trans_AGTime.pivot_table(index=['Quinzena'], columns='Mês', values='Média', aggfunc='sum').round(1)\n",
    "for col in Trans_AGTimeQuin.columns:\n",
    "    Trans_AGTimeQuin[col] = Trans_AGTimeQuin[col].apply(formatar_numero)\n",
    "Trans_AGTimeQuin"
   ]
  },
  {
   "cell_type": "code",
   "execution_count": null,
   "id": "e399fe3d-47e5-4bc4-ad44-1963f960367b",
   "metadata": {},
   "outputs": [],
   "source": []
  }
 ],
 "metadata": {
  "kernelspec": {
   "display_name": "Python 3 (ipykernel)",
   "language": "python",
   "name": "python3"
  },
  "language_info": {
   "codemirror_mode": {
    "name": "ipython",
    "version": 3
   },
   "file_extension": ".py",
   "mimetype": "text/x-python",
   "name": "python",
   "nbconvert_exporter": "python",
   "pygments_lexer": "ipython3",
   "version": "3.11.7"
  }
 },
 "nbformat": 4,
 "nbformat_minor": 5
}
